{
  "nbformat": 4,
  "nbformat_minor": 0,
  "metadata": {
    "colab": {
      "name": "MSIS549_HW1_newswires (1).ipynb",
      "provenance": [],
      "collapsed_sections": [],
      "include_colab_link": true
    },
    "language_info": {
      "codemirror_mode": {
        "name": "ipython",
        "version": 3
      },
      "file_extension": ".py",
      "mimetype": "text/x-python",
      "name": "python",
      "nbconvert_exporter": "python",
      "pygments_lexer": "ipython3",
      "version": "3.5.2"
    },
    "kernelspec": {
      "display_name": "Python 3",
      "language": "python",
      "name": "python3"
    }
  },
  "cells": [
    {
      "cell_type": "markdown",
      "metadata": {
        "id": "view-in-github",
        "colab_type": "text"
      },
      "source": [
        "<a href=\"https://colab.research.google.com/github/danjingrong/Exploratory-Analysis-of-the-Little-Review/blob/danjingrong-patch-1/MSIS549_HW1_newswires_(1).ipynb\" target=\"_parent\"><img src=\"https://colab.research.google.com/assets/colab-badge.svg\" alt=\"Open In Colab\"/></a>"
      ]
    },
    {
      "cell_type": "code",
      "metadata": {
        "id": "_0lDkFZq3ohI",
        "colab": {
          "base_uri": "https://localhost:8080/",
          "height": 486
        },
        "outputId": "16b53a31-d2a7-415b-db98-3ea04a47c6a4"
      },
      "source": [
        "%tensorflow_version 1.14\n",
        "%matplotlib inline\n",
        "import warnings\n",
        "warnings.filterwarnings('ignore')\n",
        "\n",
        "import tensorflow as tf\n",
        "tf.logging.set_verbosity(tf.logging.ERROR)\n",
        "\n",
        "import keras\n",
        "keras.__version__\n",
        "\n",
        "!pip install numpy==1.16.1\n",
        "import numpy as np"
      ],
      "execution_count": 1,
      "outputs": [
        {
          "output_type": "stream",
          "text": [
            "`%tensorflow_version` only switches the major version: 1.x or 2.x.\n",
            "You set: `1.14`. This will be interpreted as: `1.x`.\n",
            "\n",
            "\n",
            "TensorFlow 1.x selected.\n"
          ],
          "name": "stdout"
        },
        {
          "output_type": "stream",
          "text": [
            "Using TensorFlow backend.\n"
          ],
          "name": "stderr"
        },
        {
          "output_type": "stream",
          "text": [
            "Collecting numpy==1.16.1\n",
            "\u001b[?25l  Downloading https://files.pythonhosted.org/packages/61/57/07c49e1a6d2706fb7336b3fb11dd285c1e96535c80833d7524f002f57086/numpy-1.16.1-cp37-cp37m-manylinux1_x86_64.whl (17.3MB)\n",
            "\u001b[K     |████████████████████████████████| 17.3MB 40.0MB/s \n",
            "\u001b[31mERROR: lucid 0.3.10 requires umap-learn, which is not installed.\u001b[0m\n",
            "\u001b[31mERROR: tensorflow 1.15.2 has requirement gast==0.2.2, but you'll have gast 0.3.3 which is incompatible.\u001b[0m\n",
            "\u001b[31mERROR: xarray 0.18.0 has requirement numpy>=1.17, but you'll have numpy 1.16.1 which is incompatible.\u001b[0m\n",
            "\u001b[31mERROR: pyarrow 3.0.0 has requirement numpy>=1.16.6, but you'll have numpy 1.16.1 which is incompatible.\u001b[0m\n",
            "\u001b[31mERROR: datascience 0.10.6 has requirement folium==0.2.1, but you'll have folium 0.8.3 which is incompatible.\u001b[0m\n",
            "\u001b[31mERROR: astropy 4.2.1 has requirement numpy>=1.17, but you'll have numpy 1.16.1 which is incompatible.\u001b[0m\n",
            "\u001b[31mERROR: albumentations 0.1.12 has requirement imgaug<0.2.7,>=0.2.5, but you'll have imgaug 0.2.9 which is incompatible.\u001b[0m\n",
            "\u001b[?25hInstalling collected packages: numpy\n",
            "  Found existing installation: numpy 1.19.5\n",
            "    Uninstalling numpy-1.19.5:\n",
            "      Successfully uninstalled numpy-1.19.5\n",
            "Successfully installed numpy-1.16.1\n"
          ],
          "name": "stdout"
        },
        {
          "output_type": "display_data",
          "data": {
            "application/vnd.colab-display-data+json": {
              "pip_warning": {
                "packages": [
                  "numpy"
                ]
              }
            }
          },
          "metadata": {
            "tags": []
          }
        }
      ]
    },
    {
      "cell_type": "markdown",
      "metadata": {
        "id": "bu5jf9gW3ohR"
      },
      "source": [
        "# Classifying newswires: a multi-class classification example\n",
        "\n",
        "In this homework, we will build a network to classify Reuters newswires into 46 different mutually-exclusive topics. Since we have many \n",
        "classes, this problem is an instance of \"multi-class classification\", and since each data point should be classified into only one \n",
        "category, the problem is more specifically an instance of \"single-label, multi-class classification\"."
      ]
    },
    {
      "cell_type": "markdown",
      "metadata": {
        "id": "_-s49gXW3ohT"
      },
      "source": [
        "## The Reuters dataset\n",
        "\n",
        "\n",
        "We will be working with the _Reuters dataset_, a set of short newswires and their topics, published by Reuters in 1986. It's a very simple, \n",
        "widely used toy dataset for text classification. There are 46 different topics; some topics are more represented than others, but each \n",
        "topic has at least 10 examples in the training set.\n",
        "\n",
        "Like IMDB and MNIST, the Reuters dataset comes packaged as part of Keras. Let's take a look right away:"
      ]
    },
    {
      "cell_type": "code",
      "metadata": {
        "id": "yjSiBNZS3ohU",
        "colab": {
          "base_uri": "https://localhost:8080/"
        },
        "outputId": "4d22a5cb-1f83-4a75-c15e-a0e4413ba889"
      },
      "source": [
        "from keras.datasets import reuters\n",
        "\n",
        "(train_data, train_labels), (test_data, test_labels) = reuters.load_data(num_words=10000)"
      ],
      "execution_count": 1,
      "outputs": [
        {
          "output_type": "stream",
          "text": [
            "Downloading data from https://storage.googleapis.com/tensorflow/tf-keras-datasets/reuters.npz\n",
            "2113536/2110848 [==============================] - 0s 0us/step\n"
          ],
          "name": "stdout"
        }
      ]
    },
    {
      "cell_type": "markdown",
      "metadata": {
        "id": "-VRrIjNI3ohX"
      },
      "source": [
        "\n",
        "Like with the IMDB dataset, the argument `num_words=10000` restricts the data to the 10,000 most frequently occurring words found in the \n",
        "data.\n",
        "\n",
        "We have 8,982 training examples and 2,246 test examples:"
      ]
    },
    {
      "cell_type": "markdown",
      "metadata": {
        "id": "FMdiLzvF3ohf"
      },
      "source": [
        "As with the IMDB reviews, each example is a list of integers (word indices):"
      ]
    },
    {
      "cell_type": "code",
      "metadata": {
        "id": "QriVgMSe3ohg",
        "colab": {
          "base_uri": "https://localhost:8080/"
        },
        "outputId": "9e1f72d7-f9e6-4ee0-b4ad-f2a7dfcda1f2"
      },
      "source": [
        "train_data[0]"
      ],
      "execution_count": 2,
      "outputs": [
        {
          "output_type": "execute_result",
          "data": {
            "text/plain": [
              "[1,\n",
              " 2,\n",
              " 2,\n",
              " 8,\n",
              " 43,\n",
              " 10,\n",
              " 447,\n",
              " 5,\n",
              " 25,\n",
              " 207,\n",
              " 270,\n",
              " 5,\n",
              " 3095,\n",
              " 111,\n",
              " 16,\n",
              " 369,\n",
              " 186,\n",
              " 90,\n",
              " 67,\n",
              " 7,\n",
              " 89,\n",
              " 5,\n",
              " 19,\n",
              " 102,\n",
              " 6,\n",
              " 19,\n",
              " 124,\n",
              " 15,\n",
              " 90,\n",
              " 67,\n",
              " 84,\n",
              " 22,\n",
              " 482,\n",
              " 26,\n",
              " 7,\n",
              " 48,\n",
              " 4,\n",
              " 49,\n",
              " 8,\n",
              " 864,\n",
              " 39,\n",
              " 209,\n",
              " 154,\n",
              " 6,\n",
              " 151,\n",
              " 6,\n",
              " 83,\n",
              " 11,\n",
              " 15,\n",
              " 22,\n",
              " 155,\n",
              " 11,\n",
              " 15,\n",
              " 7,\n",
              " 48,\n",
              " 9,\n",
              " 4579,\n",
              " 1005,\n",
              " 504,\n",
              " 6,\n",
              " 258,\n",
              " 6,\n",
              " 272,\n",
              " 11,\n",
              " 15,\n",
              " 22,\n",
              " 134,\n",
              " 44,\n",
              " 11,\n",
              " 15,\n",
              " 16,\n",
              " 8,\n",
              " 197,\n",
              " 1245,\n",
              " 90,\n",
              " 67,\n",
              " 52,\n",
              " 29,\n",
              " 209,\n",
              " 30,\n",
              " 32,\n",
              " 132,\n",
              " 6,\n",
              " 109,\n",
              " 15,\n",
              " 17,\n",
              " 12]"
            ]
          },
          "metadata": {
            "tags": []
          },
          "execution_count": 2
        }
      ]
    },
    {
      "cell_type": "markdown",
      "metadata": {
        "id": "kIvaOPin3ohj"
      },
      "source": [
        "Here's how you can decode it back to words, in case you are curious:"
      ]
    },
    {
      "cell_type": "code",
      "metadata": {
        "id": "EZg6ME3Y3ohk",
        "colab": {
          "base_uri": "https://localhost:8080/"
        },
        "outputId": "c43d3338-e456-4e34-f8c8-137c44900d4a"
      },
      "source": [
        "word_index = reuters.get_word_index()\n",
        "reverse_word_index = dict([(value, key) for (key, value) in word_index.items()])\n",
        "# Note that our indices were offset by 3\n",
        "# because 0, 1 and 2 are reserved indices for \"padding\", \"start of sequence\", and \"unknown\".\n",
        "decoded_newswire = ' '.join([reverse_word_index.get(i - 3, '?') for i in train_data[0]])\n",
        "\n",
        "print(\"The decoded text:\" + decoded_newswire)"
      ],
      "execution_count": 3,
      "outputs": [
        {
          "output_type": "stream",
          "text": [
            "Downloading data from https://storage.googleapis.com/tensorflow/tf-keras-datasets/reuters_word_index.json\n",
            "557056/550378 [==============================] - 0s 0us/step\n",
            "The decoded text:? ? ? said as a result of its december acquisition of space co it expects earnings per share in 1987 of 1 15 to 1 30 dlrs per share up from 70 cts in 1986 the company said pretax net should rise to nine to 10 mln dlrs from six mln dlrs in 1986 and rental operation revenues to 19 to 22 mln dlrs from 12 5 mln dlrs it said cash flow per share this year should be 2 50 to three dlrs reuter 3\n"
          ],
          "name": "stdout"
        }
      ]
    },
    {
      "cell_type": "markdown",
      "metadata": {
        "id": "yntI1JS33oho"
      },
      "source": [
        "The label associated with an example is an integer between 0 and 45: a topic index."
      ]
    },
    {
      "cell_type": "code",
      "metadata": {
        "id": "swMqUzqz3ohq",
        "colab": {
          "base_uri": "https://localhost:8080/"
        },
        "outputId": "e609052c-d80a-4a09-e9fc-68fc3d86e271"
      },
      "source": [
        "train_labels[0]"
      ],
      "execution_count": null,
      "outputs": [
        {
          "output_type": "execute_result",
          "data": {
            "text/plain": [
              "3"
            ]
          },
          "metadata": {
            "tags": []
          },
          "execution_count": 4
        }
      ]
    },
    {
      "cell_type": "markdown",
      "metadata": {
        "id": "fsLn40NK3oht"
      },
      "source": [
        "## Preparing the data\n",
        "\n",
        "We can vectorize the data with the exact same code as in our previous example:"
      ]
    },
    {
      "cell_type": "code",
      "metadata": {
        "id": "NDol7z_43ohu"
      },
      "source": [
        "import numpy as np\n",
        "\n",
        "def vectorize_sequences(sequences, dimension=10000):\n",
        "    results = np.zeros((len(sequences), dimension))\n",
        "    for i, sequence in enumerate(sequences):\n",
        "        results[i, sequence] = 1.\n",
        "    return results\n",
        "\n",
        "# Our vectorized training data\n",
        "x_train = vectorize_sequences(train_data)\n",
        "# Our vectorized test data\n",
        "x_test = vectorize_sequences(test_data)"
      ],
      "execution_count": 4,
      "outputs": []
    },
    {
      "cell_type": "markdown",
      "metadata": {
        "id": "9pte7Qr63ohv"
      },
      "source": [
        "\n",
        "Use \"one-hot\" encoding to vectorize the labels. One-hot encoding is a widely used format for categorical data, also called \"categorical encoding\". In our case, one-hot encoding of our labels consists in embedding each label as an all-zero vector with a 1 in the place of the label index. Note that there is a built-in way to do this in Keras."
      ]
    },
    {
      "cell_type": "code",
      "metadata": {
        "id": "XO_SmjOD3ohy"
      },
      "source": [
        "from keras.utils.np_utils import to_categorical\n",
        "\n",
        "one_hot_train_labels = to_categorical(train_labels)\n",
        "one_hot_test_labels = to_categorical(test_labels)"
      ],
      "execution_count": 5,
      "outputs": []
    },
    {
      "cell_type": "markdown",
      "metadata": {
        "id": "rMvTFcc03ohz"
      },
      "source": [
        "## Building our network\n",
        "\n",
        "\n",
        "This topic classification problem looks very similar to our previous movie review classification problem: in both cases, we are trying to \n",
        "classify short snippets of text. There is however a new constraint here: the number of output classes has gone from 2 to 46, i.e. the \n",
        "dimensionality of the output space is much larger. \n",
        "\n",
        "In a stack of `Dense` layers like what we were using, each layer can only access information present in the output of the previous layer. \n",
        "If one layer drops some information relevant to the classification problem, this information can never be recovered by later layers: each \n",
        "layer can potentially become an \"information bottleneck\". In our previous example, we were using 16-dimensional intermediate layers, but a \n",
        "16-dimensional space may be too limited to learn to separate 46 different classes: such small layers may act as information bottlenecks, \n",
        "permanently dropping relevant information.\n",
        "\n",
        "For this reason we will use larger layers. Let's go with 64 units:"
      ]
    },
    {
      "cell_type": "code",
      "metadata": {
        "id": "HdhwRTjx3ohz",
        "colab": {
          "base_uri": "https://localhost:8080/"
        },
        "outputId": "0e40e066-c207-49cf-c900-51c97c0c5448"
      },
      "source": [
        "from keras import models\n",
        "from keras import layers\n",
        "\n",
        "# TODO: specify the architecture of the model.\n",
        "\n",
        "model = models.Sequential()\n",
        "model.add(layers.Dense(64, activation='relu', input_shape=(10000,)))\n",
        "model.add(layers.Dense(64, activation='relu'))\n",
        "model.add(layers.Dense(46, activation='softmax'))\n",
        "\n",
        "model.summary()"
      ],
      "execution_count": 7,
      "outputs": [
        {
          "output_type": "stream",
          "text": [
            "Model: \"sequential\"\n",
            "_________________________________________________________________\n",
            "Layer (type)                 Output Shape              Param #   \n",
            "=================================================================\n",
            "dense (Dense)                (None, 64)                640064    \n",
            "_________________________________________________________________\n",
            "dense_1 (Dense)              (None, 64)                4160      \n",
            "_________________________________________________________________\n",
            "dense_2 (Dense)              (None, 46)                2990      \n",
            "=================================================================\n",
            "Total params: 647,214\n",
            "Trainable params: 647,214\n",
            "Non-trainable params: 0\n",
            "_________________________________________________________________\n"
          ],
          "name": "stdout"
        }
      ]
    },
    {
      "cell_type": "markdown",
      "metadata": {
        "id": "V-Aj666N3oh1"
      },
      "source": [
        "\n",
        "There are two other things you should note about this architecture:\n",
        "\n",
        "* We are ending the network with a `Dense` layer of size 46. This means that for each input sample, our network will output a \n",
        "46-dimensional vector. Each entry in this vector (each dimension) will encode a different output class.\n",
        "* The last layer uses a `softmax` activation. You have already seen this pattern in the MNIST example. It means that the network will \n",
        "output a _probability distribution_ over the 46 different output classes, i.e. for every input sample, the network will produce a \n",
        "46-dimensional output vector where `output[i]` is the probability that the sample belongs to class `i`. The 46 scores will sum to 1.\n",
        "\n",
        "The best loss function to use in this case is `categorical_crossentropy`. It measures the distance between two probability distributions: \n",
        "in our case, between the probability distribution output by our network, and the true distribution of the labels. By minimizing the \n",
        "distance between these two distributions, we train our network to output something as close as possible to the true labels."
      ]
    },
    {
      "cell_type": "code",
      "metadata": {
        "id": "AhmA6zNZ3oh1"
      },
      "source": [
        "# TODO: compile the model you just built\n",
        "from keras import optimizers\n",
        "from keras import losses\n",
        "from keras import metrics\n",
        "\n",
        "model.compile(optimizer=optimizers.RMSprop(lr=0.001),\n",
        "              loss=losses.categorical_crossentropy,\n",
        "              metrics=[metrics.categorical_accuracy])"
      ],
      "execution_count": 8,
      "outputs": []
    },
    {
      "cell_type": "markdown",
      "metadata": {
        "id": "TGB_cp8B3oh2"
      },
      "source": [
        "## Validating our approach\n",
        "\n",
        "Let's set apart 1,000 samples in our training data to use as a validation set:"
      ]
    },
    {
      "cell_type": "code",
      "metadata": {
        "id": "Y3eyzgOA3oh2"
      },
      "source": [
        "x_val = x_train[:1000]\n",
        "partial_x_train = x_train[1000:]\n",
        "\n",
        "y_val = one_hot_train_labels[:1000]\n",
        "partial_y_train = one_hot_train_labels[1000:]"
      ],
      "execution_count": 9,
      "outputs": []
    },
    {
      "cell_type": "markdown",
      "metadata": {
        "id": "vIFUZkt43oh3"
      },
      "source": [
        "Now let's train our network for 20 epochs:"
      ]
    },
    {
      "cell_type": "code",
      "metadata": {
        "id": "MM57jbod3oh3",
        "colab": {
          "base_uri": "https://localhost:8080/"
        },
        "outputId": "bfbb7059-dc33-40be-aabc-7e42eef45bae"
      },
      "source": [
        "# TODO: fit the model with the training dataset and provide validation data \n",
        "# to help check overfitting\n",
        "history = history = model.fit(partial_x_train, partial_y_train, epochs=20, \n",
        "                              batch_size=512, validation_data=(x_val, y_val))"
      ],
      "execution_count": 10,
      "outputs": [
        {
          "output_type": "stream",
          "text": [
            "Epoch 1/20\n",
            "16/16 [==============================] - 2s 86ms/step - loss: 3.1072 - categorical_accuracy: 0.4131 - val_loss: 1.6953 - val_categorical_accuracy: 0.6500\n",
            "Epoch 2/20\n",
            "16/16 [==============================] - 1s 49ms/step - loss: 1.4711 - categorical_accuracy: 0.6983 - val_loss: 1.2748 - val_categorical_accuracy: 0.7130\n",
            "Epoch 3/20\n",
            "16/16 [==============================] - 1s 50ms/step - loss: 1.0754 - categorical_accuracy: 0.7705 - val_loss: 1.1011 - val_categorical_accuracy: 0.7630\n",
            "Epoch 4/20\n",
            "16/16 [==============================] - 1s 50ms/step - loss: 0.8363 - categorical_accuracy: 0.8240 - val_loss: 1.0189 - val_categorical_accuracy: 0.7830\n",
            "Epoch 5/20\n",
            "16/16 [==============================] - 1s 47ms/step - loss: 0.6503 - categorical_accuracy: 0.8616 - val_loss: 0.9745 - val_categorical_accuracy: 0.8050\n",
            "Epoch 6/20\n",
            "16/16 [==============================] - 1s 49ms/step - loss: 0.5188 - categorical_accuracy: 0.8942 - val_loss: 0.9310 - val_categorical_accuracy: 0.8050\n",
            "Epoch 7/20\n",
            "16/16 [==============================] - 1s 48ms/step - loss: 0.4139 - categorical_accuracy: 0.9187 - val_loss: 0.8950 - val_categorical_accuracy: 0.8160\n",
            "Epoch 8/20\n",
            "16/16 [==============================] - 1s 49ms/step - loss: 0.3321 - categorical_accuracy: 0.9296 - val_loss: 0.8764 - val_categorical_accuracy: 0.8210\n",
            "Epoch 9/20\n",
            "16/16 [==============================] - 1s 48ms/step - loss: 0.2840 - categorical_accuracy: 0.9404 - val_loss: 0.8848 - val_categorical_accuracy: 0.8190\n",
            "Epoch 10/20\n",
            "16/16 [==============================] - 1s 48ms/step - loss: 0.2232 - categorical_accuracy: 0.9484 - val_loss: 0.9179 - val_categorical_accuracy: 0.8110\n",
            "Epoch 11/20\n",
            "16/16 [==============================] - 1s 49ms/step - loss: 0.1975 - categorical_accuracy: 0.9530 - val_loss: 0.9320 - val_categorical_accuracy: 0.8150\n",
            "Epoch 12/20\n",
            "16/16 [==============================] - 1s 50ms/step - loss: 0.1667 - categorical_accuracy: 0.9548 - val_loss: 0.9153 - val_categorical_accuracy: 0.8120\n",
            "Epoch 13/20\n",
            "16/16 [==============================] - 1s 50ms/step - loss: 0.1509 - categorical_accuracy: 0.9590 - val_loss: 0.9666 - val_categorical_accuracy: 0.8090\n",
            "Epoch 14/20\n",
            "16/16 [==============================] - 1s 50ms/step - loss: 0.1378 - categorical_accuracy: 0.9590 - val_loss: 0.9724 - val_categorical_accuracy: 0.8160\n",
            "Epoch 15/20\n",
            "16/16 [==============================] - 1s 50ms/step - loss: 0.1254 - categorical_accuracy: 0.9629 - val_loss: 0.9694 - val_categorical_accuracy: 0.8220\n",
            "Epoch 16/20\n",
            "16/16 [==============================] - 1s 51ms/step - loss: 0.1190 - categorical_accuracy: 0.9597 - val_loss: 0.9926 - val_categorical_accuracy: 0.8150\n",
            "Epoch 17/20\n",
            "16/16 [==============================] - 1s 49ms/step - loss: 0.1092 - categorical_accuracy: 0.9646 - val_loss: 1.0102 - val_categorical_accuracy: 0.8130\n",
            "Epoch 18/20\n",
            "16/16 [==============================] - 1s 50ms/step - loss: 0.1107 - categorical_accuracy: 0.9610 - val_loss: 1.0360 - val_categorical_accuracy: 0.8060\n",
            "Epoch 19/20\n",
            "16/16 [==============================] - 1s 51ms/step - loss: 0.1113 - categorical_accuracy: 0.9610 - val_loss: 1.0407 - val_categorical_accuracy: 0.8090\n",
            "Epoch 20/20\n",
            "16/16 [==============================] - 1s 48ms/step - loss: 0.0971 - categorical_accuracy: 0.9636 - val_loss: 1.0336 - val_categorical_accuracy: 0.8090\n"
          ],
          "name": "stdout"
        }
      ]
    },
    {
      "cell_type": "markdown",
      "metadata": {
        "id": "Rq5P0gWQ3oh5"
      },
      "source": [
        "Let's display its loss and accuracy curves to help identify when it starts to overfit."
      ]
    },
    {
      "cell_type": "code",
      "metadata": {
        "id": "EIRFHE0U3oh5",
        "colab": {
          "base_uri": "https://localhost:8080/",
          "height": 313
        },
        "outputId": "e1f63bcb-0150-4c0e-b478-7ea2436b92ea"
      },
      "source": [
        "import matplotlib.pyplot as plt\n",
        "\n",
        "# TODO: plot the model loss on both training and validation data. \n",
        "\n",
        "acc = history.history['categorical_accuracy']\n",
        "val_acc = history.history['val_categorical_accuracy']\n",
        "loss = history.history['loss']\n",
        "val_loss = history.history['val_loss']\n",
        "\n",
        "epochs = range(1, len(acc) + 1)\n",
        "\n",
        "plt.plot(epochs, loss, 'bo', label='Training loss')\n",
        "plt.plot(epochs, val_loss, 'b', label='Validation loss')\n",
        "plt.title('Training and validation loss')\n",
        "plt.xlabel('Epochs')\n",
        "plt.ylabel('Loss')\n",
        "plt.legend()"
      ],
      "execution_count": 11,
      "outputs": [
        {
          "output_type": "execute_result",
          "data": {
            "text/plain": [
              "<matplotlib.legend.Legend at 0x7f7b3173d4d0>"
            ]
          },
          "metadata": {
            "tags": []
          },
          "execution_count": 11
        },
        {
          "output_type": "display_data",
          "data": {
            "image/png": "[encoded data removed]",
            "text/plain": [
              "<Figure size 432x288 with 1 Axes>"
            ]
          },
          "metadata": {
            "tags": [],
            "needs_background": "light"
          }
        }
      ]
    },
    {
      "cell_type": "code",
      "metadata": {
        "id": "M69rtt143oh6",
        "colab": {
          "base_uri": "https://localhost:8080/",
          "height": 295
        },
        "outputId": "57804761-35a5-4151-aa72-0da69e67aebb"
      },
      "source": [
        "# TODO: plot prediction accuracy on both training and validation data. \n",
        "plt.clf()\n",
        "acc = history.history['categorical_accuracy']\n",
        "val_acc = history.history['val_categorical_accuracy']\n",
        "\n",
        "plt.plot(epochs, acc, 'bo', label='Training acc')\n",
        "plt.plot(epochs, val_acc, 'b', label='Validation acc')\n",
        "plt.title('Training and validation accuracy')\n",
        "plt.xlabel('Epochs')\n",
        "plt.ylabel('Loss')\n",
        "plt.legend()\n",
        "\n",
        "plt.show()"
      ],
      "execution_count": 12,
      "outputs": [
        {
          "output_type": "display_data",
          "data": {
            "image/png": "[encoded data removed]",
            "text/plain": [
              "<Figure size 432x288 with 1 Axes>"
            ]
          },
          "metadata": {
            "tags": [],
            "needs_background": "light"
          }
        }
      ]
    },
    {
      "cell_type": "markdown",
      "metadata": {
        "id": "LUarkgZd3oh7"
      },
      "source": [
        "It seems that the network starts overfitting after certain epochs. Let's train a new network from scratch for fewer epochs before it starts overfitting, then let's evaluate it on the test set:"
      ]
    },
    {
      "cell_type": "code",
      "metadata": {
        "id": "IciZ2dMP3oh8",
        "colab": {
          "base_uri": "https://localhost:8080/"
        },
        "outputId": "e501b11f-7468-4231-d7d0-0a0d20b74d57"
      },
      "source": [
        "# TODO: retrain the model with the fewer epoches to avoid overfitting\n",
        "model = models.Sequential()\n",
        "model.add(layers.Dense(64, activation='relu', input_shape=(10000,)))\n",
        "model.add(layers.Dense(64, activation='relu'))\n",
        "model.add(layers.Dense(46, activation='softmax'))\n",
        "\n",
        "model.compile(optimizer = 'rmsprop', loss='categorical_crossentropy', metrics=['accuracy'])\n",
        "\n",
        "model.fit( partial_x_train, partial_y_train, epochs=9, batch_size=512, validation_data=(x_val, y_val))\n"
      ],
      "execution_count": 13,
      "outputs": [
        {
          "output_type": "stream",
          "text": [
            "Epoch 1/9\n",
            "16/16 [==============================] - 2s 64ms/step - loss: 3.0846 - accuracy: 0.4250 - val_loss: 1.7219 - val_accuracy: 0.6320\n",
            "Epoch 2/9\n",
            "16/16 [==============================] - 1s 50ms/step - loss: 1.4725 - accuracy: 0.6990 - val_loss: 1.2784 - val_accuracy: 0.7160\n",
            "Epoch 3/9\n",
            "16/16 [==============================] - 1s 51ms/step - loss: 1.0713 - accuracy: 0.7677 - val_loss: 1.1079 - val_accuracy: 0.7440\n",
            "Epoch 4/9\n",
            "16/16 [==============================] - 1s 49ms/step - loss: 0.8319 - accuracy: 0.8164 - val_loss: 1.0311 - val_accuracy: 0.7800\n",
            "Epoch 5/9\n",
            "16/16 [==============================] - 1s 51ms/step - loss: 0.6597 - accuracy: 0.8571 - val_loss: 0.9673 - val_accuracy: 0.8010\n",
            "Epoch 6/9\n",
            "16/16 [==============================] - 1s 52ms/step - loss: 0.5249 - accuracy: 0.8953 - val_loss: 0.9472 - val_accuracy: 0.8030\n",
            "Epoch 7/9\n",
            "16/16 [==============================] - 1s 50ms/step - loss: 0.4194 - accuracy: 0.9161 - val_loss: 0.8914 - val_accuracy: 0.8120\n",
            "Epoch 8/9\n",
            "16/16 [==============================] - 1s 50ms/step - loss: 0.3300 - accuracy: 0.9306 - val_loss: 0.9408 - val_accuracy: 0.8000\n",
            "Epoch 9/9\n",
            "16/16 [==============================] - 1s 49ms/step - loss: 0.2862 - accuracy: 0.9385 - val_loss: 0.8746 - val_accuracy: 0.8240\n"
          ],
          "name": "stdout"
        },
        {
          "output_type": "execute_result",
          "data": {
            "text/plain": [
              "<tensorflow.python.keras.callbacks.History at 0x7f7b310a4350>"
            ]
          },
          "metadata": {
            "tags": []
          },
          "execution_count": 13
        }
      ]
    },
    {
      "cell_type": "markdown",
      "metadata": {
        "id": "XQ3VcXyx3oh_"
      },
      "source": [
        "\n",
        "Your model should reach an accuracy of ~78%. With a balanced binary classification problem, the accuracy reached by a purely random classifier \n",
        "would be 50%, but in our case it is closer to 19%, so our results seem pretty good, at least when compared to a random baseline."
      ]
    },
    {
      "cell_type": "markdown",
      "metadata": {
        "id": "FEzjb1m33oiA"
      },
      "source": [
        "## Generating predictions on new data\n",
        "\n",
        "We can verify that the `predict` method of our model instance returns a probability distribution over all 46 topics. Let's generate topic \n",
        "predictions for all of the test data:"
      ]
    },
    {
      "cell_type": "code",
      "metadata": {
        "id": "lIuTWvUq3oiB",
        "colab": {
          "base_uri": "https://localhost:8080/"
        },
        "outputId": "b7a48ec4-e69d-4500-d9cf-b2ac0d74468b"
      },
      "source": [
        "# TODO: use the learnt neural network to make a prediction on \n",
        "# the test data \n",
        "predict = model.predict(x_test)\n",
        "predict"
      ],
      "execution_count": 14,
      "outputs": [
        {
          "output_type": "execute_result",
          "data": {
            "text/plain": [
              "array([[1.6132233e-04, 2.0871504e-04, 8.6506552e-05, ..., 4.7268692e-05,\n",
              "        5.8613000e-06, 3.0824158e-05],\n",
              "       [2.1534381e-03, 1.9516472e-02, 3.2937001e-03, ..., 1.4948123e-04,\n",
              "        7.0136186e-05, 1.5208608e-04],\n",
              "       [1.1057208e-03, 8.5485089e-01, 1.5231634e-03, ..., 2.4541019e-04,\n",
              "        7.1626651e-04, 1.3621645e-04],\n",
              "       ...,\n",
              "       [5.7331672e-05, 2.8260413e-04, 2.3189552e-05, ..., 1.8709647e-05,\n",
              "        9.5898777e-06, 2.0234465e-05],\n",
              "       [5.8121667e-03, 6.3889541e-02, 1.0955584e-03, ..., 8.9817750e-04,\n",
              "        9.5403922e-04, 9.8336150e-04],\n",
              "       [5.0280418e-04, 5.8142066e-01, 9.9310242e-03, ..., 4.8709495e-05,\n",
              "        1.8905428e-04, 8.0113932e-05]], dtype=float32)"
            ]
          },
          "metadata": {
            "tags": []
          },
          "execution_count": 14
        }
      ]
    },
    {
      "cell_type": "markdown",
      "metadata": {
        "id": "O1LzmGXx3oiB"
      },
      "source": [
        "Each entry in `predictions` is a vector of length 46. **The** largest entry is the predicted class, i.e. the class with the highest probability:"
      ]
    },
    {
      "cell_type": "code",
      "metadata": {
        "id": "L3RyKAsw3oiB",
        "colab": {
          "base_uri": "https://localhost:8080/"
        },
        "outputId": "7c4a925c-0563-4ecc-b2dc-25461cf34e45"
      },
      "source": [
        "# TODO: evaluate model performan in terms of accuracy on prediction against the ground truth.\n",
        "test_loss, test_acc=model.evaluate(x_test,predict)\n",
        "predict.shape\n",
        "print('test_acc', test_acc)"
      ],
      "execution_count": 19,
      "outputs": [
        {
          "output_type": "stream",
          "text": [
            "71/71 [==============================] - 0s 3ms/step - loss: 0.8011 - accuracy: 1.0000\n",
            "test_acc 1.0\n"
          ],
          "name": "stdout"
        }
      ]
    },
    {
      "cell_type": "markdown",
      "metadata": {
        "id": "Pw3GlSYG3oiH"
      },
      "source": [
        "## On the importance of having sufficiently large intermediate layers\n",
        "\n",
        "\n",
        "We mentioned earlier that since our final outputs were 46-dimensional, we should avoid intermediate layers with much less than 46 hidden \n",
        "units. Now let's try to see what happens when we introduce an information bottleneck by having intermediate layers significantly less than \n",
        "46-dimensional, e.g. 4-dimensional."
      ]
    },
    {
      "cell_type": "code",
      "metadata": {
        "id": "emfKokRe3oiH",
        "colab": {
          "base_uri": "https://localhost:8080/"
        },
        "outputId": "1d10016a-a107-43fd-bac7-4356ddba5bbb"
      },
      "source": [
        "# TODO: build a neural network with 4 neuron units in the hidden layer with the validation data \n",
        "# and evaluate its performance on the test data.\n",
        "model_2 = models.Sequential()\n",
        "model_2.add(layers.Dense(64, activation='relu', input_shape=(10000,)))\n",
        "model_2.add(layers.Dense(4, activation='relu'))\n",
        "model_2.add(layers.Dense(46, activation='softmax')) \n",
        "\n",
        "model_2.compile( optimizer = 'rmsprop', loss='categorical_crossentropy', metrics=['accuracy'])\n",
        "\n",
        "model_2.fit(partial_x_train, partial_y_train, epochs=20, batch_size=512, validation_data=(x_val, y_val))"
      ],
      "execution_count": 20,
      "outputs": [
        {
          "output_type": "stream",
          "text": [
            "Epoch 1/20\n",
            "16/16 [==============================] - 1s 60ms/step - loss: 3.7846 - accuracy: 0.0255 - val_loss: 3.6046 - val_accuracy: 0.0610\n",
            "Epoch 2/20\n",
            "16/16 [==============================] - 1s 51ms/step - loss: 3.5199 - accuracy: 0.0591 - val_loss: 3.3353 - val_accuracy: 0.2270\n",
            "Epoch 3/20\n",
            "16/16 [==============================] - 1s 48ms/step - loss: 3.2025 - accuracy: 0.2635 - val_loss: 3.0659 - val_accuracy: 0.3000\n",
            "Epoch 4/20\n",
            "16/16 [==============================] - 1s 51ms/step - loss: 2.8561 - accuracy: 0.3231 - val_loss: 2.7634 - val_accuracy: 0.3050\n",
            "Epoch 5/20\n",
            "16/16 [==============================] - 1s 49ms/step - loss: 2.5394 - accuracy: 0.3323 - val_loss: 2.4826 - val_accuracy: 0.3170\n",
            "Epoch 6/20\n",
            "16/16 [==============================] - 1s 49ms/step - loss: 2.2247 - accuracy: 0.3479 - val_loss: 2.2047 - val_accuracy: 0.5850\n",
            "Epoch 7/20\n",
            "16/16 [==============================] - 1s 48ms/step - loss: 1.8611 - accuracy: 0.6583 - val_loss: 1.9043 - val_accuracy: 0.6510\n",
            "Epoch 8/20\n",
            "16/16 [==============================] - 1s 48ms/step - loss: 1.5303 - accuracy: 0.7085 - val_loss: 1.6699 - val_accuracy: 0.6720\n",
            "Epoch 9/20\n",
            "16/16 [==============================] - 1s 48ms/step - loss: 1.2854 - accuracy: 0.7160 - val_loss: 1.5377 - val_accuracy: 0.6700\n",
            "Epoch 10/20\n",
            "16/16 [==============================] - 1s 49ms/step - loss: 1.1464 - accuracy: 0.7251 - val_loss: 1.4811 - val_accuracy: 0.6710\n",
            "Epoch 11/20\n",
            "16/16 [==============================] - 1s 48ms/step - loss: 1.0665 - accuracy: 0.7320 - val_loss: 1.4519 - val_accuracy: 0.6640\n",
            "Epoch 12/20\n",
            "16/16 [==============================] - 1s 49ms/step - loss: 0.9806 - accuracy: 0.7479 - val_loss: 1.4280 - val_accuracy: 0.6720\n",
            "Epoch 13/20\n",
            "16/16 [==============================] - 1s 50ms/step - loss: 0.9578 - accuracy: 0.7591 - val_loss: 1.4350 - val_accuracy: 0.6870\n",
            "Epoch 14/20\n",
            "16/16 [==============================] - 1s 50ms/step - loss: 0.8745 - accuracy: 0.7723 - val_loss: 1.4296 - val_accuracy: 0.6830\n",
            "Epoch 15/20\n",
            "16/16 [==============================] - 1s 49ms/step - loss: 0.8715 - accuracy: 0.7701 - val_loss: 1.4359 - val_accuracy: 0.6940\n",
            "Epoch 16/20\n",
            "16/16 [==============================] - 1s 47ms/step - loss: 0.8018 - accuracy: 0.7898 - val_loss: 1.4340 - val_accuracy: 0.6920\n",
            "Epoch 17/20\n",
            "16/16 [==============================] - 1s 50ms/step - loss: 0.7914 - accuracy: 0.7944 - val_loss: 1.4579 - val_accuracy: 0.6940\n",
            "Epoch 18/20\n",
            "16/16 [==============================] - 1s 50ms/step - loss: 0.7369 - accuracy: 0.8012 - val_loss: 1.4717 - val_accuracy: 0.6920\n",
            "Epoch 19/20\n",
            "16/16 [==============================] - 1s 49ms/step - loss: 0.7193 - accuracy: 0.8019 - val_loss: 1.4670 - val_accuracy: 0.6970\n",
            "Epoch 20/20\n",
            "16/16 [==============================] - 1s 48ms/step - loss: 0.6619 - accuracy: 0.8202 - val_loss: 1.4996 - val_accuracy: 0.6970\n"
          ],
          "name": "stdout"
        },
        {
          "output_type": "execute_result",
          "data": {
            "text/plain": [
              "<tensorflow.python.keras.callbacks.History at 0x7f7b31608410>"
            ]
          },
          "metadata": {
            "tags": []
          },
          "execution_count": 20
        }
      ]
    },
    {
      "cell_type": "markdown",
      "metadata": {
        "id": "M6wV_AR23oiI"
      },
      "source": [
        "\n",
        "You should see the model performance drop. This drop is mostly due to the fact that we are now trying to compress a lot of information (enough information to recover the separation hyperplanes of 46 classes) into an intermediate space that is too low-dimensional. The network is able to cram _most_ of the necessary information into these 8-dimensional representations, but not all of it."
      ]
    },
    {
      "cell_type": "markdown",
      "metadata": {
        "id": "8bFLuR8b3oiI"
      },
      "source": [
        "## Try using larger or smaller hidden layers: 32 units, and 128 units, and see if you will be able to improve the model performance on the test data.\n"
      ]
    },
    {
      "cell_type": "code",
      "metadata": {
        "id": "B1v7pFMGrEik",
        "colab": {
          "base_uri": "https://localhost:8080/"
        },
        "outputId": "1a07a5bf-846a-43a1-dfad-1fe5f2530c86"
      },
      "source": [
        "# TODO: Try using larger or smaller hidden layers: 32 units, and 128 units\n",
        "model_3 = models.Sequential()\n",
        "model_3.add(layers.Dense(64, activation='relu', input_shape=(10000,)))\n",
        "model_3.add(layers.Dense(32, activation='relu'))\n",
        "model_3.add(layers.Dense(46, activation='softmax')) \n",
        "\n",
        "model_3.compile( optimizer = 'rmsprop', loss='categorical_crossentropy', metrics=['accuracy'])\n",
        "\n",
        "model_3.fit(partial_x_train, partial_y_train, epochs=20, batch_size=512, validation_data=(x_val, y_val))"
      ],
      "execution_count": 21,
      "outputs": [
        {
          "output_type": "stream",
          "text": [
            "Epoch 1/20\n",
            "16/16 [==============================] - 1s 60ms/step - loss: 3.2447 - accuracy: 0.3500 - val_loss: 2.0213 - val_accuracy: 0.6180\n",
            "Epoch 2/20\n",
            "16/16 [==============================] - 1s 49ms/step - loss: 1.7383 - accuracy: 0.6628 - val_loss: 1.4737 - val_accuracy: 0.6840\n",
            "Epoch 3/20\n",
            "16/16 [==============================] - 1s 50ms/step - loss: 1.2470 - accuracy: 0.7447 - val_loss: 1.2491 - val_accuracy: 0.7280\n",
            "Epoch 4/20\n",
            "16/16 [==============================] - 1s 48ms/step - loss: 0.9674 - accuracy: 0.7949 - val_loss: 1.1148 - val_accuracy: 0.7590\n",
            "Epoch 5/20\n",
            "16/16 [==============================] - 1s 49ms/step - loss: 0.8016 - accuracy: 0.8235 - val_loss: 1.0421 - val_accuracy: 0.7760\n",
            "Epoch 6/20\n",
            "16/16 [==============================] - 1s 47ms/step - loss: 0.6599 - accuracy: 0.8573 - val_loss: 1.0012 - val_accuracy: 0.7840\n",
            "Epoch 7/20\n",
            "16/16 [==============================] - 1s 49ms/step - loss: 0.5469 - accuracy: 0.8869 - val_loss: 0.9610 - val_accuracy: 0.7880\n",
            "Epoch 8/20\n",
            "16/16 [==============================] - 1s 49ms/step - loss: 0.4562 - accuracy: 0.9057 - val_loss: 0.9276 - val_accuracy: 0.8080\n",
            "Epoch 9/20\n",
            "16/16 [==============================] - 1s 48ms/step - loss: 0.3807 - accuracy: 0.9205 - val_loss: 0.9196 - val_accuracy: 0.8050\n",
            "Epoch 10/20\n",
            "16/16 [==============================] - 1s 49ms/step - loss: 0.3163 - accuracy: 0.9337 - val_loss: 0.9192 - val_accuracy: 0.8070\n",
            "Epoch 11/20\n",
            "16/16 [==============================] - 1s 49ms/step - loss: 0.2788 - accuracy: 0.9405 - val_loss: 0.9200 - val_accuracy: 0.8100\n",
            "Epoch 12/20\n",
            "16/16 [==============================] - 1s 50ms/step - loss: 0.2388 - accuracy: 0.9488 - val_loss: 0.9305 - val_accuracy: 0.8100\n",
            "Epoch 13/20\n",
            "16/16 [==============================] - 1s 50ms/step - loss: 0.2000 - accuracy: 0.9529 - val_loss: 0.9415 - val_accuracy: 0.8140\n",
            "Epoch 14/20\n",
            "16/16 [==============================] - 1s 48ms/step - loss: 0.1783 - accuracy: 0.9550 - val_loss: 0.9645 - val_accuracy: 0.8100\n",
            "Epoch 15/20\n",
            "16/16 [==============================] - 1s 49ms/step - loss: 0.1550 - accuracy: 0.9602 - val_loss: 1.0009 - val_accuracy: 0.8120\n",
            "Epoch 16/20\n",
            "16/16 [==============================] - 1s 49ms/step - loss: 0.1442 - accuracy: 0.9583 - val_loss: 1.0096 - val_accuracy: 0.8130\n",
            "Epoch 17/20\n",
            "16/16 [==============================] - 1s 49ms/step - loss: 0.1492 - accuracy: 0.9561 - val_loss: 1.0111 - val_accuracy: 0.8100\n",
            "Epoch 18/20\n",
            "16/16 [==============================] - 1s 51ms/step - loss: 0.1355 - accuracy: 0.9562 - val_loss: 1.0240 - val_accuracy: 0.8150\n",
            "Epoch 19/20\n",
            "16/16 [==============================] - 1s 48ms/step - loss: 0.1212 - accuracy: 0.9619 - val_loss: 1.0528 - val_accuracy: 0.7990\n",
            "Epoch 20/20\n",
            "16/16 [==============================] - 1s 48ms/step - loss: 0.1166 - accuracy: 0.9603 - val_loss: 1.0572 - val_accuracy: 0.8070\n"
          ],
          "name": "stdout"
        },
        {
          "output_type": "execute_result",
          "data": {
            "text/plain": [
              "<tensorflow.python.keras.callbacks.History at 0x7f7b31af6bd0>"
            ]
          },
          "metadata": {
            "tags": []
          },
          "execution_count": 21
        }
      ]
    },
    {
      "cell_type": "code",
      "metadata": {
        "colab": {
          "base_uri": "https://localhost:8080/"
        },
        "id": "zioV9x5fzDUu",
        "outputId": "65851dd2-0416-40f8-a288-e473b6992d95"
      },
      "source": [
        "result = model_3.evaluate(x_test,one_hot_test_labels)\n",
        "print(result)"
      ],
      "execution_count": 22,
      "outputs": [
        {
          "output_type": "stream",
          "text": [
            "71/71 [==============================] - 0s 3ms/step - loss: 1.2194 - accuracy: 0.7801\n",
            "[1.2193691730499268, 0.780053436756134]\n"
          ],
          "name": "stdout"
        }
      ]
    },
    {
      "cell_type": "code",
      "metadata": {
        "colab": {
          "base_uri": "https://localhost:8080/"
        },
        "id": "jpemuu7AzRep",
        "outputId": "22df449c-29a2-420d-c0ff-24ccfdb123f9"
      },
      "source": [
        "model_4 = models.Sequential()\n",
        "model_4.add(layers.Dense(64, activation='relu', input_shape=(10000,)))\n",
        "model_4.add(layers.Dense(128, activation='relu'))\n",
        "model_4.add(layers.Dense(46, activation='softmax')) \n",
        "\n",
        "model_4.compile( optimizer = 'rmsprop', loss='categorical_crossentropy', metrics=['accuracy'])\n",
        "\n",
        "model_4.fit(partial_x_train, partial_y_train, epochs=20, batch_size=512, validation_data=(x_val, y_val))"
      ],
      "execution_count": 23,
      "outputs": [
        {
          "output_type": "stream",
          "text": [
            "Epoch 1/20\n",
            "16/16 [==============================] - 2s 64ms/step - loss: 3.0207 - accuracy: 0.4098 - val_loss: 1.5911 - val_accuracy: 0.6300\n",
            "Epoch 2/20\n",
            "16/16 [==============================] - 1s 52ms/step - loss: 1.3955 - accuracy: 0.7005 - val_loss: 1.2705 - val_accuracy: 0.7250\n",
            "Epoch 3/20\n",
            "16/16 [==============================] - 1s 51ms/step - loss: 1.0143 - accuracy: 0.7839 - val_loss: 1.0837 - val_accuracy: 0.7610\n",
            "Epoch 4/20\n",
            "16/16 [==============================] - 1s 52ms/step - loss: 0.7792 - accuracy: 0.8300 - val_loss: 1.0019 - val_accuracy: 0.7850\n",
            "Epoch 5/20\n",
            "16/16 [==============================] - 1s 52ms/step - loss: 0.6189 - accuracy: 0.8676 - val_loss: 0.9508 - val_accuracy: 0.7930\n",
            "Epoch 6/20\n",
            "16/16 [==============================] - 1s 51ms/step - loss: 0.4583 - accuracy: 0.9037 - val_loss: 0.9794 - val_accuracy: 0.7890\n",
            "Epoch 7/20\n",
            "16/16 [==============================] - 1s 52ms/step - loss: 0.3538 - accuracy: 0.9245 - val_loss: 0.9068 - val_accuracy: 0.8070\n",
            "Epoch 8/20\n",
            "16/16 [==============================] - 1s 51ms/step - loss: 0.2986 - accuracy: 0.9368 - val_loss: 0.8877 - val_accuracy: 0.8120\n",
            "Epoch 9/20\n",
            "16/16 [==============================] - 1s 53ms/step - loss: 0.2373 - accuracy: 0.9448 - val_loss: 0.8955 - val_accuracy: 0.8050\n",
            "Epoch 10/20\n",
            "16/16 [==============================] - 1s 52ms/step - loss: 0.1940 - accuracy: 0.9516 - val_loss: 0.8923 - val_accuracy: 0.8140\n",
            "Epoch 11/20\n",
            "16/16 [==============================] - 1s 51ms/step - loss: 0.1656 - accuracy: 0.9572 - val_loss: 0.9074 - val_accuracy: 0.8210\n",
            "Epoch 12/20\n",
            "16/16 [==============================] - 1s 54ms/step - loss: 0.1434 - accuracy: 0.9588 - val_loss: 0.9318 - val_accuracy: 0.8170\n",
            "Epoch 13/20\n",
            "16/16 [==============================] - 1s 49ms/step - loss: 0.1381 - accuracy: 0.9578 - val_loss: 0.9838 - val_accuracy: 0.8190\n",
            "Epoch 14/20\n",
            "16/16 [==============================] - 1s 55ms/step - loss: 0.1247 - accuracy: 0.9612 - val_loss: 0.9995 - val_accuracy: 0.8000\n",
            "Epoch 15/20\n",
            "16/16 [==============================] - 1s 53ms/step - loss: 0.1199 - accuracy: 0.9621 - val_loss: 1.0318 - val_accuracy: 0.7950\n",
            "Epoch 16/20\n",
            "16/16 [==============================] - 1s 54ms/step - loss: 0.1140 - accuracy: 0.9625 - val_loss: 1.0427 - val_accuracy: 0.8120\n",
            "Epoch 17/20\n",
            "16/16 [==============================] - 1s 53ms/step - loss: 0.1082 - accuracy: 0.9622 - val_loss: 1.0543 - val_accuracy: 0.7950\n",
            "Epoch 18/20\n",
            "16/16 [==============================] - 1s 52ms/step - loss: 0.1120 - accuracy: 0.9600 - val_loss: 1.0764 - val_accuracy: 0.7980\n",
            "Epoch 19/20\n",
            "16/16 [==============================] - 1s 52ms/step - loss: 0.1022 - accuracy: 0.9604 - val_loss: 1.0590 - val_accuracy: 0.8080\n",
            "Epoch 20/20\n",
            "16/16 [==============================] - 1s 51ms/step - loss: 0.0994 - accuracy: 0.9624 - val_loss: 1.1478 - val_accuracy: 0.7870\n"
          ],
          "name": "stdout"
        },
        {
          "output_type": "execute_result",
          "data": {
            "text/plain": [
              "<tensorflow.python.keras.callbacks.History at 0x7f7b316bb510>"
            ]
          },
          "metadata": {
            "tags": []
          },
          "execution_count": 23
        }
      ]
    },
    {
      "cell_type": "code",
      "metadata": {
        "colab": {
          "base_uri": "https://localhost:8080/"
        },
        "id": "M4hila-VzW4x",
        "outputId": "348e30ab-8065-42bd-ae95-023034aa26a4"
      },
      "source": [
        "result = model_4.evaluate(x_test,one_hot_test_labels)\n",
        "print(result)"
      ],
      "execution_count": 24,
      "outputs": [
        {
          "output_type": "stream",
          "text": [
            "71/71 [==============================] - 0s 3ms/step - loss: 1.2711 - accuracy: 0.7743\n",
            "[1.2710927724838257, 0.7742653489112854]\n"
          ],
          "name": "stdout"
        }
      ]
    },
    {
      "cell_type": "markdown",
      "metadata": {
        "id": "qJ1JPiTErD7X"
      },
      "source": [
        "\n",
        "## We were using two hidden layers. Now try to use a single hidden layer, or three hidden layers, and see if you will be able to improve the model performance on the test data.\n",
        "\n"
      ]
    },
    {
      "cell_type": "code",
      "metadata": {
        "id": "6zukIClyrh3k",
        "colab": {
          "base_uri": "https://localhost:8080/"
        },
        "outputId": "9a6a3199-a9b4-40cc-b839-8f9dd56ed8f8"
      },
      "source": [
        "# TODO: Try to use a single hidden layer, or three hidden layers\n",
        "model_5 = models.Sequential()\n",
        "model_5.add(layers.Dense(64, activation='relu', input_shape=(10000,)))\n",
        "model_5.add(layers.Dense(46, activation='softmax')) \n",
        "\n",
        "model_5.compile(optimizer = 'rmsprop', loss='categorical_crossentropy', metrics=['accuracy'])\n",
        "\n",
        "model_5.fit(partial_x_train, partial_y_train, epochs=20, batch_size=512, validation_data=(x_val, y_val))"
      ],
      "execution_count": 25,
      "outputs": [
        {
          "output_type": "stream",
          "text": [
            "Epoch 1/20\n",
            "16/16 [==============================] - 1s 60ms/step - loss: 3.0742 - accuracy: 0.4555 - val_loss: 1.8246 - val_accuracy: 0.6650\n",
            "Epoch 2/20\n",
            "16/16 [==============================] - 1s 48ms/step - loss: 1.5827 - accuracy: 0.7162 - val_loss: 1.3454 - val_accuracy: 0.7240\n",
            "Epoch 3/20\n",
            "16/16 [==============================] - 1s 50ms/step - loss: 1.1141 - accuracy: 0.7813 - val_loss: 1.1341 - val_accuracy: 0.7670\n",
            "Epoch 4/20\n",
            "16/16 [==============================] - 1s 48ms/step - loss: 0.8377 - accuracy: 0.8335 - val_loss: 1.0167 - val_accuracy: 0.7900\n",
            "Epoch 5/20\n",
            "16/16 [==============================] - 1s 50ms/step - loss: 0.6926 - accuracy: 0.8616 - val_loss: 0.9412 - val_accuracy: 0.8040\n",
            "Epoch 6/20\n",
            "16/16 [==============================] - 1s 50ms/step - loss: 0.5642 - accuracy: 0.8871 - val_loss: 0.8925 - val_accuracy: 0.8160\n",
            "Epoch 7/20\n",
            "16/16 [==============================] - 1s 49ms/step - loss: 0.4621 - accuracy: 0.9119 - val_loss: 0.8479 - val_accuracy: 0.8230\n",
            "Epoch 8/20\n",
            "16/16 [==============================] - 1s 49ms/step - loss: 0.3800 - accuracy: 0.9247 - val_loss: 0.8376 - val_accuracy: 0.8240\n",
            "Epoch 9/20\n",
            "16/16 [==============================] - 1s 50ms/step - loss: 0.3160 - accuracy: 0.9384 - val_loss: 0.8258 - val_accuracy: 0.8250\n",
            "Epoch 10/20\n",
            "16/16 [==============================] - 1s 50ms/step - loss: 0.2584 - accuracy: 0.9483 - val_loss: 0.8200 - val_accuracy: 0.8270\n",
            "Epoch 11/20\n",
            "16/16 [==============================] - 1s 49ms/step - loss: 0.2211 - accuracy: 0.9513 - val_loss: 0.8320 - val_accuracy: 0.8240\n",
            "Epoch 12/20\n",
            "16/16 [==============================] - 1s 49ms/step - loss: 0.1951 - accuracy: 0.9521 - val_loss: 0.8221 - val_accuracy: 0.8300\n",
            "Epoch 13/20\n",
            "16/16 [==============================] - 1s 49ms/step - loss: 0.1708 - accuracy: 0.9571 - val_loss: 0.8336 - val_accuracy: 0.8240\n",
            "Epoch 14/20\n",
            "16/16 [==============================] - 1s 50ms/step - loss: 0.1564 - accuracy: 0.9571 - val_loss: 0.8488 - val_accuracy: 0.8290\n",
            "Epoch 15/20\n",
            "16/16 [==============================] - 1s 49ms/step - loss: 0.1424 - accuracy: 0.9566 - val_loss: 0.8673 - val_accuracy: 0.8220\n",
            "Epoch 16/20\n",
            "16/16 [==============================] - 1s 48ms/step - loss: 0.1327 - accuracy: 0.9591 - val_loss: 0.8767 - val_accuracy: 0.8240\n",
            "Epoch 17/20\n",
            "16/16 [==============================] - 1s 49ms/step - loss: 0.1230 - accuracy: 0.9613 - val_loss: 0.8998 - val_accuracy: 0.8170\n",
            "Epoch 18/20\n",
            "16/16 [==============================] - 1s 51ms/step - loss: 0.1165 - accuracy: 0.9597 - val_loss: 0.8962 - val_accuracy: 0.8250\n",
            "Epoch 19/20\n",
            "16/16 [==============================] - 1s 49ms/step - loss: 0.1082 - accuracy: 0.9637 - val_loss: 0.9095 - val_accuracy: 0.8200\n",
            "Epoch 20/20\n",
            "16/16 [==============================] - 1s 48ms/step - loss: 0.0966 - accuracy: 0.9639 - val_loss: 0.9137 - val_accuracy: 0.8190\n"
          ],
          "name": "stdout"
        },
        {
          "output_type": "execute_result",
          "data": {
            "text/plain": [
              "<tensorflow.python.keras.callbacks.History at 0x7f7b31a19c90>"
            ]
          },
          "metadata": {
            "tags": []
          },
          "execution_count": 25
        }
      ]
    },
    {
      "cell_type": "code",
      "metadata": {
        "colab": {
          "base_uri": "https://localhost:8080/"
        },
        "id": "eF2ntMyqziD2",
        "outputId": "26de4436-f025-4dde-b82d-4e2d5828a7b5"
      },
      "source": [
        "result = model_5.evaluate(x_test,one_hot_test_labels)\n",
        "print(result)"
      ],
      "execution_count": 26,
      "outputs": [
        {
          "output_type": "stream",
          "text": [
            "71/71 [==============================] - 0s 3ms/step - loss: 1.0413 - accuracy: 0.7943\n",
            "[1.0413033962249756, 0.7943009734153748]\n"
          ],
          "name": "stdout"
        }
      ]
    },
    {
      "cell_type": "markdown",
      "metadata": {
        "id": "gldwCoKB3oiI"
      },
      "source": [
        "## Wrapping up\n",
        "\n",
        "\n",
        "Here's what you should take away from this example:\n",
        "\n",
        "* If you are trying to classify data points between N classes, your network should end with a `Dense` layer of size N.\n",
        "* In a single-label, multi-class classification problem, your network should end with a `softmax` activation, so that it will output a \n",
        "probability distribution over the N output classes.\n",
        "* _Categorical crossentropy_ is almost always the loss function you should use for such problems. It minimizes the distance between the \n",
        "probability distributions output by the network, and the true distribution of the targets.\n",
        "* There are two ways to handle labels in multi-class classification:\n",
        "    ** Encoding the labels via \"categorical encoding\" (also known as \"one-hot encoding\") and using `categorical_crossentropy` as your loss \n",
        "function.\n",
        "    ** Encoding the labels as integers and using the `sparse_categorical_crossentropy` loss function.\n",
        "* If you need to classify data into a large number of categories, then you should avoid creating information bottlenecks in your network by having \n",
        "intermediate layers that are too small."
      ]
    },
    {
      "cell_type": "markdown",
      "metadata": {
        "id": "aKekl-HuGXiU"
      },
      "source": [
        "## Bonus Point\n",
        "Can you think of other methods to further improve the model performance? Code it up and evaluate them."
      ]
    },
    {
      "cell_type": "code",
      "metadata": {
        "id": "38I30otcrO-r",
        "colab": {
          "base_uri": "https://localhost:8080/"
        },
        "outputId": "367e6f5f-b64f-431d-fa41-a3e4b8ea90f3"
      },
      "source": [
        "#Reducing the batch size\n",
        "model_b = models.Sequential()\n",
        "model_b.add(layers.Dense(64, activation='relu', input_shape=(10000,)))\n",
        "model_b.add(layers.Dense(46, activation='relu'))\n",
        "model_b.add(layers.Dense(46, activation='softmax')) \n",
        "\n",
        "model_b.compile( optimizer = 'rmsprop', loss='categorical_crossentropy', metrics=['accuracy'])\n",
        "\n",
        "model_b.fit(partial_x_train, partial_y_train, epochs=20, batch_size=64, validation_data=(x_val, y_val))"
      ],
      "execution_count": 27,
      "outputs": [
        {
          "output_type": "stream",
          "text": [
            "Epoch 1/20\n",
            "125/125 [==============================] - 2s 14ms/step - loss: 2.3087 - accuracy: 0.5475 - val_loss: 1.1474 - val_accuracy: 0.7400\n",
            "Epoch 2/20\n",
            "125/125 [==============================] - 2s 13ms/step - loss: 0.9134 - accuracy: 0.8027 - val_loss: 0.9507 - val_accuracy: 0.8090\n",
            "Epoch 3/20\n",
            "125/125 [==============================] - 2s 13ms/step - loss: 0.5777 - accuracy: 0.8755 - val_loss: 0.8629 - val_accuracy: 0.8180\n",
            "Epoch 4/20\n",
            "125/125 [==============================] - 2s 13ms/step - loss: 0.3849 - accuracy: 0.9194 - val_loss: 0.8691 - val_accuracy: 0.8240\n",
            "Epoch 5/20\n",
            "125/125 [==============================] - 2s 12ms/step - loss: 0.2752 - accuracy: 0.9365 - val_loss: 0.8722 - val_accuracy: 0.8340\n",
            "Epoch 6/20\n",
            "125/125 [==============================] - 2s 13ms/step - loss: 0.2064 - accuracy: 0.9535 - val_loss: 0.9362 - val_accuracy: 0.8160\n",
            "Epoch 7/20\n",
            "125/125 [==============================] - 2s 13ms/step - loss: 0.1735 - accuracy: 0.9536 - val_loss: 0.9847 - val_accuracy: 0.8160\n",
            "Epoch 8/20\n",
            "125/125 [==============================] - 2s 13ms/step - loss: 0.1523 - accuracy: 0.9543 - val_loss: 0.9989 - val_accuracy: 0.8120\n",
            "Epoch 9/20\n",
            "125/125 [==============================] - 2s 13ms/step - loss: 0.1393 - accuracy: 0.9594 - val_loss: 1.0351 - val_accuracy: 0.8100\n",
            "Epoch 10/20\n",
            "125/125 [==============================] - 2s 13ms/step - loss: 0.1296 - accuracy: 0.9556 - val_loss: 1.0985 - val_accuracy: 0.8050\n",
            "Epoch 11/20\n",
            "125/125 [==============================] - 2s 13ms/step - loss: 0.1105 - accuracy: 0.9635 - val_loss: 1.3320 - val_accuracy: 0.7810\n",
            "Epoch 12/20\n",
            "125/125 [==============================] - 2s 13ms/step - loss: 0.1085 - accuracy: 0.9611 - val_loss: 1.2342 - val_accuracy: 0.8030\n",
            "Epoch 13/20\n",
            "125/125 [==============================] - 2s 12ms/step - loss: 0.1084 - accuracy: 0.9601 - val_loss: 1.2402 - val_accuracy: 0.7930\n",
            "Epoch 14/20\n",
            "125/125 [==============================] - 2s 12ms/step - loss: 0.0984 - accuracy: 0.9622 - val_loss: 1.2701 - val_accuracy: 0.8030\n",
            "Epoch 15/20\n",
            "125/125 [==============================] - 2s 12ms/step - loss: 0.1072 - accuracy: 0.9572 - val_loss: 1.2832 - val_accuracy: 0.7940\n",
            "Epoch 16/20\n",
            "125/125 [==============================] - 2s 13ms/step - loss: 0.0942 - accuracy: 0.9623 - val_loss: 1.4158 - val_accuracy: 0.7900\n",
            "Epoch 17/20\n",
            "125/125 [==============================] - 2s 13ms/step - loss: 0.0836 - accuracy: 0.9643 - val_loss: 1.4899 - val_accuracy: 0.7930\n",
            "Epoch 18/20\n",
            "125/125 [==============================] - 2s 12ms/step - loss: 0.0874 - accuracy: 0.9632 - val_loss: 1.5163 - val_accuracy: 0.7970\n",
            "Epoch 19/20\n",
            "125/125 [==============================] - 2s 13ms/step - loss: 0.0845 - accuracy: 0.9597 - val_loss: 1.5364 - val_accuracy: 0.7880\n",
            "Epoch 20/20\n",
            "125/125 [==============================] - 2s 13ms/step - loss: 0.0852 - accuracy: 0.9628 - val_loss: 1.6543 - val_accuracy: 0.7900\n"
          ],
          "name": "stdout"
        },
        {
          "output_type": "execute_result",
          "data": {
            "text/plain": [
              "<tensorflow.python.keras.callbacks.History at 0x7f7b312b7050>"
            ]
          },
          "metadata": {
            "tags": []
          },
          "execution_count": 27
        }
      ]
    },
    {
      "cell_type": "code",
      "metadata": {
        "colab": {
          "base_uri": "https://localhost:8080/"
        },
        "id": "D_XLLwAxzswA",
        "outputId": "33c3f33b-7b37-40bb-e379-2cbe15809db1"
      },
      "source": [
        "result = model_b.evaluate(x_test,one_hot_test_labels)\n",
        "print(result)"
      ],
      "execution_count": 28,
      "outputs": [
        {
          "output_type": "stream",
          "text": [
            "71/71 [==============================] - 0s 3ms/step - loss: 1.9779 - accuracy: 0.7756\n",
            "[1.9779452085494995, 0.7756010890007019]\n"
          ],
          "name": "stdout"
        }
      ]
    },
    {
      "cell_type": "code",
      "metadata": {
        "colab": {
          "base_uri": "https://localhost:8080/",
          "height": 313
        },
        "id": "gEpxKJ7jzu4T",
        "outputId": "018420b8-7803-4c10-b2cc-88219c657e39"
      },
      "source": [
        "loss = history.history['loss']\n",
        "val_loss = history.history['val_loss']\n",
        "acc = history.history['categorical_accuracy']\n",
        "val_acc = history.history['val_categorical_accuracy']\n",
        "\n",
        "batch = range(64, len(acc) +64)\n",
        "\n",
        "\n",
        "plt.plot(batch, loss, 'bo', label='Training loss')\n",
        "plt.plot(batch, val_loss, 'b', label='Validation loss')\n",
        "plt.title('Training and validation loss')\n",
        "plt.xlabel('Batch')\n",
        "plt.ylabel('Loss')\n",
        "plt.legend()\n",
        "\n"
      ],
      "execution_count": 29,
      "outputs": [
        {
          "output_type": "execute_result",
          "data": {
            "text/plain": [
              "<matplotlib.legend.Legend at 0x7f7b30c86dd0>"
            ]
          },
          "metadata": {
            "tags": []
          },
          "execution_count": 29
        },
        {
          "output_type": "display_data",
          "data": {
            "image/png": "[encoded data removed]",
            "text/plain": [
              "<Figure size 432x288 with 1 Axes>"
            ]
          },
          "metadata": {
            "tags": [],
            "needs_background": "light"
          }
        }
      ]
    },
    {
      "cell_type": "markdown",
      "metadata": {
        "id": "l7CGM-0QrOrp"
      },
      "source": [
        "# End of HW1"
      ]
    }
  ]
}